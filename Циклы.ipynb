{
 "cells": [
  {
   "cell_type": "code",
   "execution_count": null,
   "metadata": {},
   "outputs": [],
   "source": [
    "a=int(input())\n",
    "\n",
    "b=int(input())\n",
    "\n",
    "i=0\n",
    "\n",
    "while a<=b:\n",
    "\n",
    "    i+=a\n",
    "\n",
    "    a+=1\n",
    "\n",
    "print(i)"
   ]
  }
 ],
 "metadata": {
  "language_info": {
   "name": "python"
  }
 },
 "nbformat": 4,
 "nbformat_minor": 2
}
