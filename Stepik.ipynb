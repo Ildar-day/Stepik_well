{
 "cells": [
  {
   "cell_type": "code",
   "execution_count": 2,
   "metadata": {},
   "outputs": [
    {
     "ename": "ValueError",
     "evalue": "invalid literal for int() with base 10: ''",
     "output_type": "error",
     "traceback": [
      "\u001b[0;31m---------------------------------------------------------------------------\u001b[0m",
      "\u001b[0;31mValueError\u001b[0m                                Traceback (most recent call last)",
      "Cell \u001b[0;32mIn[2], line 1\u001b[0m\n\u001b[0;32m----> 1\u001b[0m x \u001b[38;5;241m=\u001b[39m \u001b[38;5;28;43mint\u001b[39;49m\u001b[43m(\u001b[49m\u001b[38;5;28;43minput\u001b[39;49m\u001b[43m(\u001b[49m\u001b[43m)\u001b[49m\u001b[43m)\u001b[49m\n\u001b[1;32m      2\u001b[0m \u001b[38;5;28mprint\u001b[39m(x \u001b[38;5;241m/\u001b[39m\u001b[38;5;241m/\u001b[39m \u001b[38;5;241m60\u001b[39m)\n\u001b[1;32m      3\u001b[0m \u001b[38;5;28mprint\u001b[39m(x \u001b[38;5;241m%\u001b[39m \u001b[38;5;241m60\u001b[39m)\n",
      "\u001b[0;31mValueError\u001b[0m: invalid literal for int() with base 10: ''"
     ]
    }
   ],
   "source": [
    "x = int(input())\n",
    "print(x // 60)\n",
    "print(x % 60)"
   ]
  },
  {
   "cell_type": "code",
   "execution_count": null,
   "metadata": {},
   "outputs": [
    {
     "name": "stdout",
     "output_type": "stream",
     "text": [
      "True\n"
     ]
    }
   ],
   "source": [
    "a=int(input())\n",
    "print(a>0)"
   ]
  },
  {
   "cell_type": "code",
   "execution_count": null,
   "metadata": {},
   "outputs": [
    {
     "data": {
      "text/plain": [
       "True"
      ]
     },
     "execution_count": 5,
     "metadata": {},
     "output_type": "execute_result"
    }
   ],
   "source": [
    "x = 5\n",
    "y = 10\n",
    "y > x * x or y >= 2 * x and x < y"
   ]
  },
  {
   "cell_type": "code",
   "execution_count": null,
   "metadata": {},
   "outputs": [
    {
     "data": {
      "text/plain": [
       "5"
      ]
     },
     "execution_count": 30,
     "metadata": {},
     "output_type": "execute_result"
    }
   ],
   "source": [
    "65%6"
   ]
  },
  {
   "cell_type": "code",
   "execution_count": null,
   "metadata": {},
   "outputs": [
    {
     "name": "stdout",
     "output_type": "stream",
     "text": [
      "6.0\n"
     ]
    }
   ],
   "source": [
    "a=int(input())\n",
    "b=int(input())\n",
    "c=int(input())\n",
    "p=(a+b+c)/2\n",
    "s= p*(p-a)*(p-b)*(p-c)\n",
    "print(float(s**(0.5)))\n"
   ]
  },
  {
   "cell_type": "code",
   "execution_count": null,
   "metadata": {},
   "outputs": [
    {
     "name": "stdout",
     "output_type": "stream",
     "text": [
      "3.14e+20\n"
     ]
    }
   ],
   "source": [
    "type = str(input('Введите планировку комнаты: прямоугольник, круг или треугольник'))\n",
    "if type == 'прямоугольник':\n",
    "    a = int(input('введите длину первой стороны'))\n",
    "    b = int(input('введите длину второй стороны'))\n",
    "    print(float(a*b))\n",
    "elif type == 'круг':\n",
    "    r = int(input('Введите радиус окружности'))\n",
    "    print(float(3.14*(r*r)))\n",
    "elif type == 'треугольник':\n",
    "    a = int(input('Введите длину первой стороны'))\n",
    "    b = int(input('Введите длину второй стороны'))\n",
    "    c = int(input('Введите длину третьей стороны'))\n",
    "    p=(a+b+c)/2\n",
    "    s= p*(p-a)*(p-b)*(p-c)\n",
    "    print(float(s**(0.5)))\n",
    "else:\n",
    "    print('Вы не выбрали планировку комнаты. Начните сначала!')"
   ]
  },
  {
   "cell_type": "code",
   "execution_count": 151,
   "metadata": {},
   "outputs": [
    {
     "name": "stdout",
     "output_type": "stream",
     "text": [
      "9\n",
      "2\n",
      "5\n"
     ]
    }
   ],
   "source": [
    "a, b, c = int(input()), int(input()), int(input())\n",
    "\n",
    "if (a >= b and a >= c):\n",
    "    print(a)\n",
    "elif (b >= a and b >= c):\n",
    "    print(b)\n",
    "elif (c >= a and c >= b):\n",
    "    print(c)\n",
    "\n",
    "if (a <= b and a <= c):\n",
    "    print(a)\n",
    "elif (b <= a and b <= c):\n",
    "    print(b)\n",
    "elif (c <= a and c <= b):\n",
    "    print(c)\n",
    "\n",
    "if (a == b or a == c) or (a > b and a < c) or (a < b and a > c):\n",
    "    print(a)\n",
    "elif (b == a or b == c) or (b > a and b < c) or (b < a and b > c):\n",
    "    print(b)\n",
    "elif (c == a or c == b) or (c > a and c < b) or (c < a and c > b):\n",
    "    print(c)"
   ]
  },
  {
   "cell_type": "code",
   "execution_count": 113,
   "metadata": {},
   "outputs": [
    {
     "name": "stdout",
     "output_type": "stream",
     "text": [
      "656 программистов\n"
     ]
    }
   ],
   "source": [
    "a = int(input())\n",
    "st = str('программист')\n",
    "sta = str('программиста')\n",
    "stov = str('программистов')\n",
    "second = ((a % 100) // 10)\n",
    "end = a % 10\n",
    "\n",
    "if a < 0:\n",
    "    print('Введите число, больше нуля')\n",
    "elif (second == 1) or (end == 0) or (end == 5) or (end == 6) or (end == 7) or (end == 8) or (end == 9):\n",
    "    print(str(a) + ' ' + stov)\n",
    "elif end == 1:\n",
    "    print(str(a) + ' ' + st)\n",
    "elif (end == 2) or (end == 3) or (end == 4):\n",
    "    print(str(a) + ' ' + sta)"
   ]
  },
  {
   "cell_type": "code",
   "execution_count": 112,
   "metadata": {},
   "outputs": [
    {
     "name": "stdout",
     "output_type": "stream",
     "text": [
      "Обычный\n"
     ]
    }
   ],
   "source": [
    "a = str(input())\n",
    "x1 = int(a[0:1])\n",
    "x2 = int(a[1:2])\n",
    "x3 = int(a[2:3])\n",
    "x4 = int(a[3:4])\n",
    "x5 = int(a[4:5])\n",
    "x6 = int(a[5:6])\n",
    "\n",
    "y1 = x1, x2, x3\n",
    "y2 = x4, x5, x6\n",
    "\n",
    "first_half = int(sum(y1))\n",
    "second_half = int(sum(y2))\n",
    "\n",
    "if first_half == second_half:\n",
    "    print('Счастливый')\n",
    "else:\n",
    "    print('Обычный')\n",
    "\n"
   ]
  }
 ],
 "metadata": {
  "kernelspec": {
   "display_name": "Python 3",
   "language": "python",
   "name": "python3"
  },
  "language_info": {
   "codemirror_mode": {
    "name": "ipython",
    "version": 3
   },
   "file_extension": ".py",
   "mimetype": "text/x-python",
   "name": "python",
   "nbconvert_exporter": "python",
   "pygments_lexer": "ipython3",
   "version": "3.12.1"
  }
 },
 "nbformat": 4,
 "nbformat_minor": 2
}
